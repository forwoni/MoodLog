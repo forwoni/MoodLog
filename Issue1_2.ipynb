{
  "nbformat": 4,
  "nbformat_minor": 0,
  "metadata": {
    "colab": {
      "provenance": []
    },
    "kernelspec": {
      "name": "python3",
      "display_name": "Python 3"
    },
    "language_info": {
      "name": "python"
    }
  },
  "cells": [
    {
      "cell_type": "code",
      "execution_count": 1,
      "metadata": {
        "id": "vrDyexw4X1mo"
      },
      "outputs": [],
      "source": [
        "import re\n",
        "\n",
        "def split_sentences(text: str) -> list:\n",
        "    # 마침표, 느낌표, 물음표 등으로 문장 분리\n",
        "    return re.split(r'[.!?]\\s*', text.strip())"
      ]
    },
    {
      "cell_type": "code",
      "source": [
        "emotion_keywords = {\n",
        "    \"우울(부정)\": [\"우울\", \"지침\", \"무기력\", \"외롭\", \"눈물\", \"쓸쓸\", \"힘들\", \"상처\", \"속상\", \"괴롭\", \"아팠\", \"울컥\"],\n",
        "    \"불안(부정)\": [\"불안\", \"걱정\", \"초조\", \"두려움\", \"긴장\", \"혼란\"],\n",
        "    \"행복(긍정)\": [\"행복\", \"기쁘\", \"좋았\", \"즐거웠\", \"웃음\", \"설렘\", \"두근\", \"기대\", \"떨림\", \"즐겁\"],\n",
        "    \"분노(부정)\": [\"짜증\", \"화나\", \"열받\", \"분노\", \"억울\"],\n",
        "}\n",
        "\n",
        "def analyze_emotion(text: str) -> str:\n",
        "    score = {emotion: 0 for emotion in emotion_keywords}\n",
        "    for emotion, keywords in emotion_keywords.items():\n",
        "        for word in keywords:\n",
        "            if word in text:\n",
        "                score[emotion] += 1\n",
        "    top_emotion = max(score.items(), key=lambda x: x[1])\n",
        "    return top_emotion[0] if top_emotion[1] > 0 else \"중립\""
      ],
      "metadata": {
        "id": "8XCmys5hX-Cr"
      },
      "execution_count": 2,
      "outputs": []
    },
    {
      "cell_type": "code",
      "source": [
        "from collections import Counter\n",
        "\n",
        "def analyze_long_text(text: str) -> str:\n",
        "    sentences = split_sentences(text)\n",
        "    emotion_list = [analyze_emotion(s) for s in sentences if s.strip()]\n",
        "    count = Counter(emotion_list)\n",
        "    # 가장 많이 나온 감정 반환\n",
        "    return count.most_common(1)[0][0] if count else \"중립\""
      ],
      "metadata": {
        "id": "1-1WXgFKYBhq"
      },
      "execution_count": 3,
      "outputs": []
    },
    {
      "cell_type": "code",
      "source": [
        "sample_blog = \"\"\"\n",
        "오늘 하루는 무기력했고, 아무것도 하기 싫었다.\n",
        "혼자 집에 있으니까 외롭고 쓸쓸했다.\n",
        "그러다 예전 생각이 나서 눈물이 났다.\n",
        "\"\"\"\n",
        "\n",
        "print(\"최종 감정:\", analyze_long_text(sample_blog))  # 예상: 우울(부정)"
      ],
      "metadata": {
        "colab": {
          "base_uri": "https://localhost:8080/"
        },
        "id": "vL6VWL2lYCmN",
        "outputId": "4f9f893d-fba4-4485-a2b0-ba7a2797a054"
      },
      "execution_count": 4,
      "outputs": [
        {
          "output_type": "stream",
          "name": "stdout",
          "text": [
            "최종 감정: 우울(부정)\n"
          ]
        }
      ]
    }
  ]
}