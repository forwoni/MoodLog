{
  "nbformat": 4,
  "nbformat_minor": 0,
  "metadata": {
    "colab": {
      "provenance": []
    },
    "kernelspec": {
      "name": "python3",
      "display_name": "Python 3"
    },
    "language_info": {
      "name": "python"
    }
  },
  "cells": [
    {
      "cell_type": "code",
      "source": [
        "emotion_keywords = {\n",
        "    \"우울(부정)\": [\"우울\", \"지침\", \"무기력\", \"외롭\", \"눈물\", \"쓸쓸\", \"힘들\", \"상처\", \"속상\", \"괴롭\", \"아팠\", \"울컥\"],\n",
        "    \"불안(부정)\": [\"불안\", \"걱정\", \"초조\", \"두려움\", \"긴장\", \"혼란\"],\n",
        "    \"행복(긍정)\": [\"행복\", \"기쁘\", \"좋았\", \"즐거웠\", \"웃음\", \"설렘\", \"두근\", \"기대\", \"떨림\", \"즐겁\"],\n",
        "    \"분노(부정)\": [\"짜증\", \"화나\", \"열받\", \"분노\", \"억울\"],\n",
        "}"
      ],
      "metadata": {
        "id": "euqlnbZFWcIU"
      },
      "execution_count": 13,
      "outputs": []
    },
    {
      "cell_type": "code",
      "source": [
        "def rule_based_emotion(text: str) -> str:\n",
        "    score = {emotion: 0 for emotion in emotion_keywords}\n",
        "    for emotion, keywords in emotion_keywords.items():\n",
        "        for word in keywords:\n",
        "            if word in text:\n",
        "                score[emotion] += 1\n",
        "    # 감정 점수가 가장 높은 것 반환\n",
        "    top_emotion = max(score.items(), key=lambda x: x[1])\n",
        "    return top_emotion[0] if top_emotion[1] > 0 else \"중립\""
      ],
      "metadata": {
        "id": "55ynsMeFWdQf"
      },
      "execution_count": 14,
      "outputs": []
    },
    {
      "cell_type": "code",
      "source": [
        "test_texts = [\n",
        "    \"요즘 너무 무기력하고 외롭고 우울해.\",\n",
        "    \"시험 때문에 너무 불안하고 긴장돼.\",\n",
        "    \"내일 여행 가니까 두근거리고 설렌다!\",\n",
        "    \"친구들이랑 하루 종일 웃고 너무 행복했어.\",\n",
        "    \"진짜 짜증나고 말도 안 돼. 화나!\",\n",
        "    \"그 말 진짜 상처였어. 속상하고 괴로워.\"\n",
        "]\n",
        "\n",
        "for t in test_texts:\n",
        "    emotion = rule_based_emotion(t)\n",
        "    print(f\"[{t}]\\n→ 예측 감정: {emotion}\\n\")"
      ],
      "metadata": {
        "colab": {
          "base_uri": "https://localhost:8080/"
        },
        "id": "oXCYHghKWfar",
        "outputId": "df00a887-ae05-4606-8b02-c95a67e6f768"
      },
      "execution_count": 15,
      "outputs": [
        {
          "output_type": "stream",
          "name": "stdout",
          "text": [
            "[요즘 너무 무기력하고 외롭고 우울해.]\n",
            "→ 예측 감정: 우울(부정)\n",
            "\n",
            "[시험 때문에 너무 불안하고 긴장돼.]\n",
            "→ 예측 감정: 불안(부정)\n",
            "\n",
            "[내일 여행 가니까 두근거리고 설렌다!]\n",
            "→ 예측 감정: 행복(긍정)\n",
            "\n",
            "[친구들이랑 하루 종일 웃고 너무 행복했어.]\n",
            "→ 예측 감정: 행복(긍정)\n",
            "\n",
            "[진짜 짜증나고 말도 안 돼. 화나!]\n",
            "→ 예측 감정: 분노(부정)\n",
            "\n",
            "[그 말 진짜 상처였어. 속상하고 괴로워.]\n",
            "→ 예측 감정: 우울(부정)\n",
            "\n"
          ]
        }
      ]
    }
  ]
}