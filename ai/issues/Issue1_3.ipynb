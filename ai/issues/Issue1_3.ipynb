{
  "nbformat": 4,
  "nbformat_minor": 0,
  "metadata": {
    "colab": {
      "provenance": []
    },
    "kernelspec": {
      "name": "python3",
      "display_name": "Python 3"
    },
    "language_info": {
      "name": "python"
    }
  },
  "cells": [
    {
      "cell_type": "code",
      "source": [
        "with open(\"emotion_analyzer.py\", \"w\", encoding=\"utf-8\") as f:\n",
        "    f.write(\"\"\"\n",
        "import re\n",
        "from collections import Counter\n",
        "\n",
        "emotion_keywords = {\n",
        "    \"우울(부정)\": [\"우울\", \"지침\", \"무기력\", \"외롭\", \"눈물\", \"쓸쓸\", \"힘들\", \"상처\", \"속상\", \"괴롭\", \"아팠\", \"울컥\"],\n",
        "    \"불안(부정)\": [\"불안\", \"걱정\", \"초조\", \"두려움\", \"긴장\", \"혼란\"],\n",
        "    \"행복(긍정)\": [\"행복\", \"기쁘\", \"좋았\", \"즐거웠\", \"웃음\", \"설렘\", \"두근\", \"기대\", \"떨림\", \"즐겁\"],\n",
        "    \"분노(부정)\": [\"짜증\", \"화나\", \"열받\", \"분노\", \"억울\"],\n",
        "}\n",
        "\n",
        "def split_sentences(text: str) -> list:\n",
        "    return re.split(r'[.!?]\\\\s*', text.strip())\n",
        "\n",
        "def analyze_emotion(text: str) -> str:\n",
        "    score = {emotion: 0 for emotion in emotion_keywords}\n",
        "    for emotion, keywords in emotion_keywords.items():\n",
        "        for word in keywords:\n",
        "            if word in text:\n",
        "                score[emotion] += 1\n",
        "    top_emotion = max(score.items(), key=lambda x: x[1])\n",
        "    return top_emotion[0] if top_emotion[1] > 0 else \"중립\"\n",
        "\n",
        "def analyze_long_text(text: str) -> str:\n",
        "    sentences = split_sentences(text)\n",
        "    emotions = [analyze_emotion(s) for s in sentences if s.strip()]\n",
        "    count = Counter(emotions)\n",
        "    return count.most_common(1)[0][0] if count else \"중립\"\n",
        "\"\"\")"
      ],
      "metadata": {
        "id": "sysmbjH3a-ZJ"
      },
      "execution_count": 3,
      "outputs": []
    },
    {
      "cell_type": "code",
      "source": [
        "import os\n",
        "\n",
        "# 현재 디렉토리 안 파일 목록 보기\n",
        "os.listdir()\n"
      ],
      "metadata": {
        "colab": {
          "base_uri": "https://localhost:8080/"
        },
        "id": "MRX72IMVlrfg",
        "outputId": "04cefbbe-245a-4fbd-caaf-30fe50af01fc"
      },
      "execution_count": 5,
      "outputs": [
        {
          "output_type": "execute_result",
          "data": {
            "text/plain": [
              "['.config', 'emotion_analyzer.py', '__pycache__', 'sample_data']"
            ]
          },
          "metadata": {},
          "execution_count": 5
        }
      ]
    },
    {
      "cell_type": "code",
      "source": [
        "from emotion_analyzer import analyze_long_text\n",
        "\n",
        "test_cases = {\n",
        "    \"우울(부정)\": \"\"\"\n",
        "        오늘 하루는 무기력했고, 아무것도 하기 싫었다.\n",
        "        혼자 집에 있으니까 외롭고 쓸쓸했다.\n",
        "        눈물이 났다.\n",
        "    \"\"\",\n",
        "    \"불안(부정)\": \"\"\"\n",
        "        시험을 앞두고 있어서 너무 초조하고 불안하다.\n",
        "        잠도 제대로 못 자고 계속 긴장된다.\n",
        "    \"\"\",\n",
        "    \"행복(긍정)\": \"\"\"\n",
        "        친구랑 놀면서 하루 종일 웃고 행복했어.\n",
        "        너무 기쁘고 즐거운 하루였다.\n",
        "    \"\"\",\n",
        "    \"분노(부정)\": \"\"\"\n",
        "        진짜 열받았고 짜증이 난다.\n",
        "        억울하고 말도 안 되는 상황이었다.\n",
        "    \"\"\",\n",
        "    \"중립\": \"\"\"\n",
        "        오늘은 날씨가 흐렸다. 점심은 김밥을 먹었다.\n",
        "        별다른 감정은 없었다.\n",
        "    \"\"\"\n",
        "}\n",
        "\n",
        "for expected, text in test_cases.items():\n",
        "    result = analyze_long_text(text)\n",
        "    print(f\"예상: {expected} → 예측: {result} {'✅' if expected == result else '❌'}\")"
      ],
      "metadata": {
        "colab": {
          "base_uri": "https://localhost:8080/"
        },
        "id": "tHsIcB4pZvvt",
        "outputId": "6fa6ec5b-a31e-49d2-fd80-4091ccc9df24"
      },
      "execution_count": 4,
      "outputs": [
        {
          "output_type": "stream",
          "name": "stdout",
          "text": [
            "예상: 우울(부정) → 예측: 우울(부정) ✅\n",
            "예상: 불안(부정) → 예측: 불안(부정) ✅\n",
            "예상: 행복(긍정) → 예측: 행복(긍정) ✅\n",
            "예상: 분노(부정) → 예측: 분노(부정) ✅\n",
            "예상: 중립 → 예측: 중립 ✅\n"
          ]
        }
      ]
    }
  ]
}