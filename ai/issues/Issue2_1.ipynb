{
  "nbformat": 4,
  "nbformat_minor": 0,
  "metadata": {
    "colab": {
      "provenance": []
    },
    "kernelspec": {
      "name": "python3",
      "display_name": "Python 3"
    },
    "language_info": {
      "name": "python"
    }
  },
  "cells": [
    {
      "cell_type": "code",
      "execution_count": 1,
      "metadata": {
        "id": "TqHCoMxD39CZ"
      },
      "outputs": [],
      "source": [
        "# emotion_mapper.py\n",
        "\n",
        "emotion_to_spotify_keyword = {\n",
        "    \"우울(부정)\": \"healing ballad\",\n",
        "    \"불안(부정)\": \"lofi chill\",\n",
        "    \"행복(긍정)\": \"happy upbeat\",\n",
        "    \"분노(부정)\": \"hard rock angry\"\n",
        "}\n",
        "\n",
        "def get_spotify_keyword(emotion: str) -> str:\n",
        "    return emotion_to_spotify_keyword.get(emotion, \"chill\")  # 기본값 \"chill\""
      ]
    },
    {
      "cell_type": "code",
      "source": [
        "if __name__ == \"__main__\":\n",
        "    test_emotions = [\"우울(부정)\", \"불안(부정)\", \"행복(긍정)\", \"분노(부정)\", \"중립\"]\n",
        "\n",
        "    for emotion in test_emotions:\n",
        "        keyword = get_spotify_keyword(emotion)\n",
        "        print(f\"[{emotion}] → Spotify 키워드: {keyword}\")"
      ],
      "metadata": {
        "colab": {
          "base_uri": "https://localhost:8080/"
        },
        "id": "lx4bhkgT4JUq",
        "outputId": "8b6b30f5-f45d-452b-91d5-4f2fcee918a2"
      },
      "execution_count": 2,
      "outputs": [
        {
          "output_type": "stream",
          "name": "stdout",
          "text": [
            "[우울(부정)] → Spotify 키워드: healing ballad\n",
            "[불안(부정)] → Spotify 키워드: lofi chill\n",
            "[행복(긍정)] → Spotify 키워드: happy upbeat\n",
            "[분노(부정)] → Spotify 키워드: hard rock angry\n",
            "[중립] → Spotify 키워드: chill\n"
          ]
        }
      ]
    }
  ]
}